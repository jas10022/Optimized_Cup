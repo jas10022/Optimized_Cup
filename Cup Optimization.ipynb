{
 "cells": [
  {
   "cell_type": "markdown",
   "id": "portuguese-wedding",
   "metadata": {},
   "source": [
    "# CUP"
   ]
  },
  {
   "cell_type": "code",
   "execution_count": 39,
   "id": "institutional-bearing",
   "metadata": {},
   "outputs": [
    {
     "name": "stdout",
     "output_type": "stream",
     "text": [
      "This is Ipopt version 3.13.2, running with linear solver mumps.\n",
      "NOTE: Other linear solvers might be more efficient (see Ipopt documentation).\n",
      "\n",
      "Number of nonzeros in equality constraint Jacobian...:        4\n",
      "Number of nonzeros in inequality constraint Jacobian.:       17\n",
      "Number of nonzeros in Lagrangian Hessian.............:       12\n",
      "\n",
      "Total number of variables............................:        5\n",
      "                     variables with only lower bounds:        4\n",
      "                variables with lower and upper bounds:        0\n",
      "                     variables with only upper bounds:        0\n",
      "Total number of equality constraints.................:        1\n",
      "Total number of inequality constraints...............:        7\n",
      "        inequality constraints with only lower bounds:        4\n",
      "   inequality constraints with lower and upper bounds:        0\n",
      "        inequality constraints with only upper bounds:        3\n",
      "\n",
      "iter    objective    inf_pr   inf_du lg(mu)  ||d||  lg(rg) alpha_du alpha_pr  ls\n",
      "   0  0.0000000e+00 1.23e+03 5.29e-01  -1.0 0.00e+00    -  0.00e+00 0.00e+00   0\n",
      "   1  6.4556797e-04 1.23e+03 3.52e+00  -1.0 3.66e+05    -  2.70e-08 1.71e-08f  2\n",
      "   2  1.2920324e-03 1.23e+03 4.01e+00  -1.0 2.04e+05   2.0 7.31e-08 3.47e-08f  2\n",
      "   3r 1.2920324e-03 1.23e+03 9.99e+02   3.1 0.00e+00   2.4 0.00e+00 3.95e-08R  2\n",
      "   4r 2.5554559e+00 4.08e+03 9.37e+04   3.1 1.54e+03    -  8.66e-03 8.78e-03f  1\n",
      "   5r 2.5616093e+00 3.33e+03 8.59e+04   2.4 9.25e+00   4.0 7.34e-02 1.71e-01h  1\n",
      "   6r 2.5617346e+00 3.31e+03 8.57e+04   2.4 8.83e+00   3.5 1.90e-01 3.56e-03h  1\n",
      "   7r 3.3577211e+00 3.30e+03 8.44e+04   2.4 5.12e+03    -  2.91e-02 1.42e-02f  1\n",
      "   8r 7.0757955e+00 2.94e+03 7.88e+04   2.4 1.84e+03    -  7.41e-02 6.91e-02f  1\n",
      "   9r 1.5853672e+01 2.32e+03 7.60e+04   2.4 6.66e+02    -  9.63e-03 1.89e-01f  1\n",
      "iter    objective    inf_pr   inf_du lg(mu)  ||d||  lg(rg) alpha_du alpha_pr  ls\n",
      "  10r 1.6023587e+01 2.29e+03 7.45e+04   2.4 9.11e+01   3.0 1.72e-02 9.64e-03h  1\n",
      "  11r 1.7718411e+01 2.10e+03 3.43e+06   2.4 1.60e+02   2.6 6.42e-01 5.63e-02h  1\n",
      "  12r 3.0196271e+01 9.13e+02 1.23e+06   2.4 1.63e+02   2.1 8.17e-01 4.47e-01h  1\n",
      "  13r 3.2744575e+01 4.06e+02 3.93e+05   1.7 5.87e+01   1.6 1.00e+00 7.34e-01h  1\n",
      "  14  6.5996665e+01 3.29e+02 1.65e+00  -1.0 9.37e+02    -  3.66e-02 1.80e-01h  1\n",
      "  15  7.1317407e+01 2.70e+02 2.40e+00  -1.0 1.44e+02    -  4.85e-03 1.87e-01h  1\n",
      "  16  7.1602181e+01 2.69e+02 1.03e+01  -1.0 2.39e+02    -  1.00e+00 6.07e-03h  1\n",
      "  17  1.1688361e+02 7.81e+01 9.80e+00  -1.0 3.44e+02    -  2.28e-01 6.70e-01h  1\n",
      "  18  1.3058420e+02 3.04e+01 3.91e+00  -1.0 1.13e+02    -  1.00e+00 6.17e-01h  1\n",
      "  19  1.3603504e+02 1.13e+01 1.86e+00  -1.0 4.52e+01    -  1.00e+00 6.13e-01h  1\n",
      "iter    objective    inf_pr   inf_du lg(mu)  ||d||  lg(rg) alpha_du alpha_pr  ls\n",
      "  20  1.3714230e+02 7.06e+00 9.28e+00  -1.0 1.57e+01    -  1.00e+00 3.58e-01h  1\n",
      "  21  1.3884234e+02 1.17e+00 6.13e+00  -1.0 1.10e+01    -  1.00e+00 7.89e-01h  1\n",
      "  22  1.3902816e+02 5.83e-01 4.97e+01  -1.0 1.89e+00    -  1.00e+00 5.00e-01h  1\n",
      "  23  1.3918262e+02 2.18e-01 8.81e+01  -1.0 1.25e+00    -  1.00e+00 6.27e-01h  1\n",
      "  24  1.3922099e+02 9.61e-02 2.60e+02  -1.0 3.49e-01    -  1.00e+00 5.58e-01h  1\n",
      "  25  1.3924539e+02 3.85e-02 5.59e+02  -1.0 2.07e-01    -  1.00e+00 5.99e-01h  1\n",
      "  26  1.3924896e+02 2.74e-02 2.41e+03  -1.0 6.26e-02    -  1.00e+00 2.90e-01f  2\n",
      "  27  1.3925679e+02 5.37e-03 1.25e+03  -1.0 4.96e-02    -  1.00e+00 8.04e-01h  1\n",
      "  28  1.3925735e+02 4.11e-03 1.65e+04  -1.0 1.21e-02    -  1.00e+00 2.35e-01f  2\n",
      "  29  1.3925866e+02 7.04e-04 7.33e+03  -1.0 8.04e-03    -  1.00e+00 8.29e-01h  1\n",
      "iter    objective    inf_pr   inf_du lg(mu)  ||d||  lg(rg) alpha_du alpha_pr  ls\n",
      "  30  1.3925870e+02 5.54e-04 1.25e+05  -1.0 1.05e-03    -  1.00e+00 2.13e-01f  2\n",
      "  31  1.3925887e+02 8.49e-05 4.82e+04  -1.0 1.02e-03    -  1.00e+00 8.47e-01h  1\n",
      "  32  1.3925888e+02 6.75e-05 9.07e+05  -1.0 1.99e-04    -  1.00e+00 2.05e-01f  2\n",
      "  33  1.3925890e+02 7.03e-06 2.18e+05  -1.0 1.31e-04    -  1.00e+00 8.96e-01h  1\n",
      "  34  1.3925890e+02 5.72e-06 3.80e+06  -1.0 8.57e-06    -  1.00e+00 1.87e-01f  2\n",
      "  35  1.3925891e+02 8.03e-11 1.00e-06  -1.0 1.04e-05    -  1.00e+00 1.00e+00h  1\n",
      "  36  1.3915891e+02 2.53e-09 7.36e-10  -8.6 5.08e-01    -  1.00e+00 1.00e+00f  1\n",
      "  37  1.3915891e+02 2.27e-13 1.39e+02  -8.6 2.74e-06    -  7.68e-01 1.00e+00h  1\n",
      "  38  1.3915891e+02 2.27e-13 1.78e+01  -8.6 2.89e-07    -  8.72e-01 1.00e+00h  1\n",
      "  39  1.3915891e+02 4.55e-13 6.72e-03  -8.6 5.10e-08    -  1.00e+00 1.00e+00h  1\n",
      "iter    objective    inf_pr   inf_du lg(mu)  ||d||  lg(rg) alpha_du alpha_pr  ls\n",
      "  40  1.3915891e+02 2.27e-13 2.51e-14  -8.6 1.84e-08    -  1.00e+00 1.00e+00h  1\n",
      "\n",
      "Number of Iterations....: 40\n",
      "\n",
      "                                   (scaled)                 (unscaled)\n",
      "Objective...............:   1.3915890685486096e+02    1.3915890685486096e+02\n",
      "Dual infeasibility......:   2.5091040356528538e-14    2.5091040356528538e-14\n",
      "Constraint violation....:   2.2737367544323206e-13    2.2737367544323206e-13\n",
      "Complementarity.........:   3.3956373140006043e-09    3.3956373140006043e-09\n",
      "Overall NLP error.......:   3.3956373140006043e-09    3.3956373140006043e-09\n",
      "\n",
      "\n",
      "Number of objective function evaluations             = 53\n",
      "Number of objective gradient evaluations             = 32\n",
      "Number of equality constraint evaluations            = 53\n",
      "Number of inequality constraint evaluations          = 53\n",
      "Number of equality constraint Jacobian evaluations   = 42\n",
      "Number of inequality constraint Jacobian evaluations = 42\n",
      "Number of Lagrangian Hessian evaluations             = 40\n",
      "Total CPU secs in IPOPT (w/o function evaluations)   =      0.032\n",
      "Total CPU secs in NLP function evaluations           =      0.001\n",
      "\n",
      "EXIT: Optimal Solution Found.\n"
     ]
    }
   ],
   "source": [
    "# cup is measured in centimeters becasue cm^3 = 1 ml\n",
    "material = [\"ceramic\", \"glass\", \"stainless steel\", \"Paper\", \"styrofoam\", \"plastic\"]\n",
    "avg_cost = [0.0005381957526 , 0.02690978763, 0.1614587258, 0.0006458349031, 0.0004736122623, 0.006673627332] #per sqr foot convert to per sqr centimeter\n",
    "# enviormental cost of producing each of these materials\n",
    "\n",
    "# make a handle of the cup with an empty volume using the equations of a half torus\n",
    "ration_hieght_to_handle_hieght = 73/95\n",
    "radius_to_length_ratio = 14/45\n",
    "\n",
    "daily_water_intake = 3700\n",
    "min_thickness = 0.5\n",
    "max_thickness = 0.7\n",
    "hight_to_width_ratio = 82/95 # height to width raio of a mug must stay constant when creating this mug\n",
    "\n",
    "using JuMP, Ipopt\n",
    "# m = Model(Cbc.Optimizer)\n",
    "m = Model(Ipopt.Optimizer)\n",
    "\n",
    "@variable(m, r >= 0)\n",
    "@variable(m, h >= 0)\n",
    "@variable(m, r_handle >= 0)\n",
    "@variable(m, R >= 0)\n",
    "@variable(m, surf)\n",
    "#@variable(m, bottom_thickness >= 1)\n",
    "#@variable(m, min_thickness >= padding >= max_thickness)\n",
    "@constraint(m, hight_to_width_ratio * h >= r) # the cup must maintian the hight to radius ratio \n",
    "@constraint(m, hight_to_width_ratio * h <= r)\n",
    "@constraint(m, (ration_hieght_to_handle_hieght * h)/2 >= R) # the cup must maintian the hight to radius ratio \n",
    "@constraint(m, (ration_hieght_to_handle_hieght * h)/2 <= R)\n",
    "@constraint(m, radius_to_length_ratio * R >= r_handle) # the cup must maintian the hight to radius ratio \n",
    "@constraint(m, radius_to_length_ratio * R <= r_handle)\n",
    "@NLconstraint(m, π^2 *R * r_handle^2  + π*r^2*h == daily_water_intake/3) # volume of the cup must allow me to drink it 3 times to make my daily intake\n",
    "#@NLconstraint(m, π^2 *R * r_handle^2  + π*r^2*h <= daily_water_intake/3)\n",
    "\n",
    "@NLconstraint(m, surf >= 2 * π * r^2 + 2 * π * r * h +  2* π^2 *R * r_handle ) # min-max problem\n",
    "\n",
    "#@NLexpression(m, surface_area, 2 * π * (r+padding)^2 + 2 * π * (r + padding) * (h + bottom_thickness)) # surface area of a cylinder of the cup size to calculate the cost of material\n",
    "@NLexpression(m, cost[i in 1:6], surf*avg_cost[i])\n",
    "@NLobjective(m, Min, sum(cost[i] for i in 1:6))\n",
    "\n",
    "optimize!(m)\n"
   ]
  },
  {
   "cell_type": "code",
   "execution_count": 43,
   "id": "solar-little",
   "metadata": {},
   "outputs": [
    {
     "name": "stdout",
     "output_type": "stream",
     "text": [
      "radius of the optimal cup is: 6.918747814735494\n",
      "hieght of the optimal cup is: 8.015622477970313\n",
      "maximum surface area of the cup is: 707.468530220912\n",
      "the minimum cost of the each material cup: [0.3807565580630596, 19.03782790315298, 114.22696743306726, 0.4569078696615222, 0.33506577110398206, 4.721381319812147]\n",
      "the radius of the hollow handle is: 0.9581246858916144\n",
      "the overall radius of the cupe handle: 3.0796865214632985\n",
      "the overall volume of the cup is: 1233.3333333333335\n",
      "price of all cups: 139.15890685486096\n"
     ]
    }
   ],
   "source": [
    "println(\"radius of the optimal cup is: \", value.(r))\n",
    "println(\"hieght of the optimal cup is: \", value.(h))\n",
    "println(\"maximum surface area of the cup is: \" ,value.(surf))\n",
    "println(\"the minimum cost of the each material cup: \", value.(cost))\n",
    "println(\"the radius of the hollow handle is: \", value.(r_handle))\n",
    "println(\"the overall radius of the cupe handle: \", value.(R))\n",
    "println(\"the overall volume of the cup is: \", π^2 *value.(R) * value.(r_handle)^2  + π*value.(r)^2*value.(h))\n",
    "println(\"price of all cups: \", objective_value(m))"
   ]
  },
  {
   "cell_type": "code",
   "execution_count": 64,
   "id": "moral-liver",
   "metadata": {},
   "outputs": [
    {
     "name": "stderr",
     "output_type": "stream",
     "text": [
      "\u001b[32m\u001b[1m  Resolving\u001b[22m\u001b[39m package versions...\n"
     ]
    },
    {
     "ename": "LoadError",
     "evalue": "Unable to automatically install 'libass' from '/Users/jasbakshi/.julia/packages/libass_jll/uUbBl/Artifacts.toml'",
     "output_type": "error",
     "traceback": [
      "Unable to automatically install 'libass' from '/Users/jasbakshi/.julia/packages/libass_jll/uUbBl/Artifacts.toml'",
      "",
      "Stacktrace:",
      " [1] error(::String) at ./error.jl:33",
      " [2] ensure_artifact_installed(::String, ::Dict{String,Any}, ::String; platform::Pkg.BinaryPlatforms.Platform, verbose::Bool, quiet_download::Bool) at /Users/julia/buildbot/worker/package_macos64/build/usr/share/julia/stdlib/v1.5/Pkg/src/Artifacts.jl:899",
      " [3] ensure_all_artifacts_installed(::String; platform::Pkg.BinaryPlatforms.Platform, pkg_uuid::Nothing, include_lazy::Bool, verbose::Bool, quiet_download::Bool) at /Users/julia/buildbot/worker/package_macos64/build/usr/share/julia/stdlib/v1.5/Pkg/src/Artifacts.jl:963",
      " [4] download_artifacts(::Pkg.Types.Context, ::Array{String,1}; platform::Pkg.BinaryPlatforms.MacOS, verbose::Bool) at /Users/julia/buildbot/worker/package_macos64/build/usr/share/julia/stdlib/v1.5/Pkg/src/Operations.jl:663",
      " [5] download_artifacts(::Pkg.Types.Context, ::Array{Pkg.Types.PackageSpec,1}; platform::Pkg.BinaryPlatforms.MacOS, verbose::Bool) at /Users/julia/buildbot/worker/package_macos64/build/usr/share/julia/stdlib/v1.5/Pkg/src/Operations.jl:642",
      " [6] add(::Pkg.Types.Context, ::Array{Pkg.Types.PackageSpec,1}, ::Array{Base.UUID,1}; preserve::Pkg.Types.PreserveLevel, platform::Pkg.BinaryPlatforms.MacOS) at /Users/julia/buildbot/worker/package_macos64/build/usr/share/julia/stdlib/v1.5/Pkg/src/Operations.jl:1141",
      " [7] add(::Pkg.Types.Context, ::Array{Pkg.Types.PackageSpec,1}; preserve::Pkg.Types.PreserveLevel, platform::Pkg.BinaryPlatforms.MacOS, kwargs::Base.Iterators.Pairs{Union{},Union{},Tuple{},NamedTuple{(),Tuple{}}}) at /Users/julia/buildbot/worker/package_macos64/build/usr/share/julia/stdlib/v1.5/Pkg/src/API.jl:188",
      " [8] add(::Pkg.Types.Context, ::Array{Pkg.Types.PackageSpec,1}) at /Users/julia/buildbot/worker/package_macos64/build/usr/share/julia/stdlib/v1.5/Pkg/src/API.jl:139",
      " [9] #add#21 at /Users/julia/buildbot/worker/package_macos64/build/usr/share/julia/stdlib/v1.5/Pkg/src/API.jl:67 [inlined]",
      " [10] add at /Users/julia/buildbot/worker/package_macos64/build/usr/share/julia/stdlib/v1.5/Pkg/src/API.jl:67 [inlined]",
      " [11] #add#20 at /Users/julia/buildbot/worker/package_macos64/build/usr/share/julia/stdlib/v1.5/Pkg/src/API.jl:66 [inlined]",
      " [12] add at /Users/julia/buildbot/worker/package_macos64/build/usr/share/julia/stdlib/v1.5/Pkg/src/API.jl:66 [inlined]",
      " [13] add(::String; kwargs::Base.Iterators.Pairs{Union{},Union{},Tuple{},NamedTuple{(),Tuple{}}}) at /Users/julia/buildbot/worker/package_macos64/build/usr/share/julia/stdlib/v1.5/Pkg/src/API.jl:65",
      " [14] add(::String) at /Users/julia/buildbot/worker/package_macos64/build/usr/share/julia/stdlib/v1.5/Pkg/src/API.jl:65",
      " [15] top-level scope at In[64]:2",
      " [16] include_string(::Function, ::Module, ::String, ::String) at ./loading.jl:1091"
     ]
    }
   ],
   "source": [
    "import Pkg;\n",
    "Pkg.add(\"Plots\")\n",
    "using Plots\n",
    "\n",
    "x = [i for i in 1:100]\n",
    "y = [i for i in 1:100]\n",
    "z = [(x[i]*x[i])/value.(r) + ((y[i]-value.(h))*(y[i]-value.(h)))/.3 for i in 1:100]\n",
    "plot(x,y,z)"
   ]
  },
  {
   "cell_type": "code",
   "execution_count": 54,
   "id": "capital-iraqi",
   "metadata": {},
   "outputs": [
    {
     "ename": "LoadError",
     "evalue": "UndefVarError: diag not defined",
     "output_type": "error",
     "traceback": [
      "UndefVarError: diag not defined",
      "",
      "Stacktrace:",
      " [1] top-level scope at In[54]:11",
      " [2] include_string(::Function, ::Module, ::String, ::String) at ./loading.jl:1091"
     ]
    }
   ],
   "source": [
    "using PyPlot\n",
    "n = 100\n",
    "u = range(0,stop=2*π,length=n);\n",
    "v = range(0,stop=π,length=n);\n",
    "\n",
    "x = cos.(u) .* sin.(v);\n",
    "y = sin.(u) .* sin.(v);\n",
    "z = ones(n) .* cos.(v);\n",
    "\n",
    "# The rstride and cstride arguments default to 10\n",
    "plot( diag(x), diag(y), diag(z), color=\"yellow\", linewidth=3 )"
   ]
  },
  {
   "cell_type": "code",
   "execution_count": null,
   "id": "mighty-keeping",
   "metadata": {},
   "outputs": [],
   "source": []
  }
 ],
 "metadata": {
  "kernelspec": {
   "display_name": "Julia 1.5.3",
   "language": "julia",
   "name": "julia-1.5"
  },
  "language_info": {
   "file_extension": ".jl",
   "mimetype": "application/julia",
   "name": "julia",
   "version": "1.5.3"
  }
 },
 "nbformat": 4,
 "nbformat_minor": 5
}
